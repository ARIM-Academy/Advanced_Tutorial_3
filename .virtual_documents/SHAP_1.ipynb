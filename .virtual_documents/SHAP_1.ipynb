











!pip install xgboost
!pip install shap
!git clone https://github.com/ARIM-Academy/Advanced_Tutorial_3.git
%cd Advanced_Tutorial_3





import pandas as pd
import matplotlib.pyplot as plt

import xgboost
import shap

# 警告を無視
from warnings import filterwarnings
filterwarnings('ignore')





X, y = shap.datasets.california()


X











model = xgboost.XGBRegressor()
model.fit(X, y)





%%time
exp = shap.Explainer(model)








shap_values = exp(X)





shap.plots.bar(shap_values)





shap.plots.bar(shap_values, 
               max_display=5
              )





#　最初のインスタンス（サンプル）のSHAP値
shap.plots.bar(shap_values[0])





# summarize the effects of all the features
shap.plots.beeswarm(shap_values)





shap.plots.beeswarm(shap_values, 
                    order = shap_values.abs.max(0)
                   )





shap.plots.beeswarm(shap_values, 
                    color=plt.get_cmap("plasma")
                   )





# visualize the first prediction's explanation
shap.plots.waterfall(shap_values[0])





# visualize the first prediction's explanation with a force plot
shap.initjs()
shap.plots.force(shap_values[0])





# visualize all the training set predictions
shap.initjs()
shap.plots.force(shap_values[:500])





# create a dependence scatter plot to show the effect of a single feature across the whole dataset

shap.plots.scatter(shap_values[:, "Latitude"], 
                   color=shap_values
                  )



